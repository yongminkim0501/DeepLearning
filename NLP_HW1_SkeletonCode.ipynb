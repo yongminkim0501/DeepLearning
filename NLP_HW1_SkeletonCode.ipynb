{
  "nbformat": 4,
  "nbformat_minor": 0,
  "metadata": {
    "colab": {
      "provenance": [],
      "include_colab_link": true
    },
    "kernelspec": {
      "name": "python3",
      "display_name": "Python 3"
    },
    "language_info": {
      "name": "python"
    }
  },
  "cells": [
    {
      "cell_type": "markdown",
      "metadata": {
        "id": "view-in-github",
        "colab_type": "text"
      },
      "source": [
        "<a href=\"https://colab.research.google.com/github/yongminkim0501/DeepLearning/blob/main/NLP_HW1_SkeletonCode.ipynb\" target=\"_parent\"><img src=\"https://colab.research.google.com/assets/colab-badge.svg\" alt=\"Open In Colab\"/></a>"
      ]
    },
    {
      "cell_type": "code",
      "execution_count": null,
      "metadata": {
        "id": "Acz4C3K0Ri34"
      },
      "outputs": [],
      "source": [
        "##Word2vec using pytorch\n",
        "import numpy as np\n",
        "text = '''Machine learning is the study of computer algorithms that improve automatically through experience. It is seen as a subset of artificial intelligence. Machine learning algorithms build a mathematical model based on sample data, known as  training data, in order to make predictions or decisions without being explicitly programmed to do so. Machine learning algorithms are used in a wide variety of applications, such as email filtering and computer vision, where it is difficult or infeasible to develop conventional algorithms to perform the needed tasks.'''\n",
        "\n",
        "# Tokenization\n",
        "text = text.lower()\n",
        "words = text.split()\n",
        "\n"
      ]
    },
    {
      "cell_type": "code",
      "source": [
        "from collections import Counter\n",
        "from collections import defaultdict\n",
        "\n",
        "## Build a dictionary that maps words to integers\n",
        "counts = Counter(words)\n",
        "vocab = sorted(counts, key=counts.get, reverse=True)\n",
        "word2idx = {word: idx for idx, word in enumerate(vocab,0)}\n",
        "idx2word = {idx: word for word, idx in word2idx.items()}\n",
        "vocab_size = len(vocab)"
      ],
      "metadata": {
        "id": "RPWfHAOc59kk"
      },
      "execution_count": null,
      "outputs": []
    },
    {
      "cell_type": "code",
      "source": [
        "import numpy as np\n",
        "import torch\n",
        "# Negative Sampling parameters\n",
        "num_negatives = 5\n",
        "\n",
        "word_counts = defaultdict(int)\n",
        "for word in words:\n",
        "  word_counts[word] += 1\n",
        "\n",
        "# Create a unigram distribution for negative sampling\n",
        "word_counts_array = np.array([word_counts[idx2word[i]] for i in range(vocab_size)])\n",
        "unigram_dist = word_counts_array / word_counts_array.sum()\n",
        "unigram_dist = unigram_dist ** 0.75\n",
        "unigram_dist = unigram_dist / unigram_dist.sum()\n",
        "\n",
        "def get_negative_samples_exclude_context(context_idx, num_negatives, unigram_dist, vocab_size):\n",
        "    negatives = []\n",
        "    while len(negatives) < num_negatives:\n",
        "        sample = np.random.choice(vocab_size, p=unigram_dist)\n",
        "        if sample != context_idx:\n",
        "            negatives.append(sample)\n",
        "    return torch.tensor(negatives)\n",
        "\n",
        "\n",
        "window_size = 2  # Context window size\n",
        "\n",
        "def generate_pairs(tokenized_corpus, word2idx, window_size):\n",
        "    pairs = []\n",
        "    for idx, target_word in enumerate(tokenized_corpus):\n",
        "        if target_word not in word2idx:\n",
        "            continue\n",
        "        target_idx = word2idx[target_word]\n",
        "        # Define context window\n",
        "        start = max(idx - window_size, 0)\n",
        "        end = min(idx + window_size + 1, len(tokenized_corpus)-1)\n",
        "        context_list = []\n",
        "        for context_idx in range(start, end):\n",
        "            if context_idx != idx:\n",
        "                context_word = tokenized_corpus[context_idx]\n",
        "                if context_word in word2idx:\n",
        "                    context_word_idx = word2idx[context_word]\n",
        "                    context_list.append(context_word_idx)\n",
        "        pairs.append((target_idx,context_list))\n",
        "    res = []\n",
        "    for target_word, context_words in pairs:\n",
        "      negative_words = get_negative_samples_exclude_context(context_word,num_negatives,unigram_dist,len(word2idx))\n",
        "      for context_word in context_words:\n",
        "        target_word = torch.tensor([target_word])\n",
        "        context_word = torch.tensor([context_word])\n",
        "        negative_words = torch.tensor(negative_words)\n",
        "        res.append((target_word,context_word,negative_words))\n",
        "    return res\n",
        "\n",
        "pairs = generate_pairs(words,word2idx,2)\n",
        "print(pairs)"
      ],
      "metadata": {
        "id": "mNIMWJO8RyXS",
        "colab": {
          "base_uri": "https://localhost:8080/"
        },
        "outputId": "ff86beb2-e6da-4b6c-bf58-16f41560bd70"
      },
      "execution_count": null,
      "outputs": [
        {
          "output_type": "stream",
          "name": "stdout",
          "text": [
            "[(tensor([2]), tensor([3]), tensor([48, 32, 26, 35, 52])), (tensor([2]), tensor([4]), tensor([48, 32, 26, 35, 52])), (tensor([3]), tensor([2]), tensor([ 0, 18, 33, 17, 37])), (tensor([3]), tensor([4]), tensor([ 0, 18, 33, 17, 37])), (tensor([3]), tensor([8]), tensor([ 0, 18, 33, 17, 37])), (tensor([4]), tensor([2]), tensor([10, 31, 25, 10, 35])), (tensor([4]), tensor([3]), tensor([10, 31, 25, 10, 35])), (tensor([4]), tensor([8]), tensor([10, 31, 25, 10, 35])), (tensor([4]), tensor([14]), tensor([10, 31, 25, 10, 35])), (tensor([8]), tensor([3]), tensor([36,  6, 43, 44, 57])), (tensor([8]), tensor([4]), tensor([36,  6, 43, 44, 57])), (tensor([8]), tensor([14]), tensor([36,  6, 43, 44, 57])), (tensor([8]), tensor([5]), tensor([36,  6, 43, 44, 57])), (tensor([14]), tensor([4]), tensor([26, 49, 13,  6, 52])), (tensor([14]), tensor([8]), tensor([26, 49, 13,  6, 52])), (tensor([14]), tensor([5]), tensor([26, 49, 13,  6, 52])), (tensor([14]), tensor([9]), tensor([26, 49, 13,  6, 52])), (tensor([5]), tensor([8]), tensor([ 8, 32, 52, 14,  1])), (tensor([5]), tensor([14]), tensor([ 8, 32, 52, 14,  1])), (tensor([5]), tensor([9]), tensor([ 8, 32, 52, 14,  1])), (tensor([5]), tensor([0]), tensor([ 8, 32, 52, 14,  1])), (tensor([9]), tensor([14]), tensor([45, 40, 37, 21, 56])), (tensor([9]), tensor([5]), tensor([45, 40, 37, 21, 56])), (tensor([9]), tensor([0]), tensor([45, 40, 37, 21, 56])), (tensor([9]), tensor([15]), tensor([45, 40, 37, 21, 56])), (tensor([0]), tensor([5]), tensor([11,  3,  0, 32, 10])), (tensor([0]), tensor([9]), tensor([11,  3,  0, 32, 10])), (tensor([0]), tensor([15]), tensor([11,  3,  0, 32, 10])), (tensor([0]), tensor([16]), tensor([11,  3,  0, 32, 10])), (tensor([15]), tensor([9]), tensor([17, 49, 34, 55, 44])), (tensor([15]), tensor([0]), tensor([17, 49, 34, 55, 44])), (tensor([15]), tensor([16]), tensor([17, 49, 34, 55, 44])), (tensor([15]), tensor([17]), tensor([17, 49, 34, 55, 44])), (tensor([16]), tensor([0]), tensor([ 2, 23, 12, 38, 30])), (tensor([16]), tensor([15]), tensor([ 2, 23, 12, 38, 30])), (tensor([16]), tensor([17]), tensor([ 2, 23, 12, 38, 30])), (tensor([16]), tensor([18]), tensor([ 2, 23, 12, 38, 30])), (tensor([17]), tensor([15]), tensor([33, 22,  6, 56,  2])), (tensor([17]), tensor([16]), tensor([33, 22,  6, 56,  2])), (tensor([17]), tensor([18]), tensor([33, 22,  6, 56,  2])), (tensor([17]), tensor([19]), tensor([33, 22,  6, 56,  2])), (tensor([18]), tensor([16]), tensor([27, 21, 10,  2, 28])), (tensor([18]), tensor([17]), tensor([27, 21, 10,  2, 28])), (tensor([18]), tensor([19]), tensor([27, 21, 10,  2, 28])), (tensor([18]), tensor([10]), tensor([27, 21, 10,  2, 28])), (tensor([19]), tensor([17]), tensor([ 3, 13,  0, 21,  0])), (tensor([19]), tensor([18]), tensor([ 3, 13,  0, 21,  0])), (tensor([19]), tensor([10]), tensor([ 3, 13,  0, 21,  0])), (tensor([19]), tensor([4]), tensor([ 3, 13,  0, 21,  0])), (tensor([10]), tensor([18]), tensor([43, 50, 23, 14, 26])), (tensor([10]), tensor([19]), tensor([43, 50, 23, 14, 26])), (tensor([10]), tensor([4]), tensor([43, 50, 23, 14, 26])), (tensor([10]), tensor([20]), tensor([43, 50, 23, 14, 26])), (tensor([4]), tensor([19]), tensor([22, 58, 12, 53,  3])), (tensor([4]), tensor([10]), tensor([22, 58, 12, 53,  3])), (tensor([4]), tensor([20]), tensor([22, 58, 12, 53,  3])), (tensor([4]), tensor([6]), tensor([22, 58, 12, 53,  3])), (tensor([20]), tensor([10]), tensor([53, 11, 47, 41, 27])), (tensor([20]), tensor([4]), tensor([53, 11, 47, 41, 27])), (tensor([20]), tensor([6]), tensor([53, 11, 47, 41, 27])), (tensor([20]), tensor([7]), tensor([53, 11, 47, 41, 27])), (tensor([6]), tensor([4]), tensor([47, 18, 55,  0, 47])), (tensor([6]), tensor([20]), tensor([47, 18, 55,  0, 47])), (tensor([6]), tensor([7]), tensor([47, 18, 55,  0, 47])), (tensor([6]), tensor([21]), tensor([47, 18, 55,  0, 47])), (tensor([7]), tensor([20]), tensor([31, 36, 16,  4, 34])), (tensor([7]), tensor([6]), tensor([31, 36, 16,  4, 34])), (tensor([7]), tensor([21]), tensor([31, 36, 16,  4, 34])), (tensor([7]), tensor([5]), tensor([31, 36, 16,  4, 34])), (tensor([21]), tensor([6]), tensor([24, 50, 15,  7, 21])), (tensor([21]), tensor([7]), tensor([24, 50, 15,  7, 21])), (tensor([21]), tensor([5]), tensor([24, 50, 15,  7, 21])), (tensor([21]), tensor([22]), tensor([24, 50, 15,  7, 21])), (tensor([5]), tensor([7]), tensor([29,  7, 57,  0, 39])), (tensor([5]), tensor([21]), tensor([29,  7, 57,  0, 39])), (tensor([5]), tensor([22]), tensor([29,  7, 57,  0, 39])), (tensor([5]), tensor([23]), tensor([29,  7, 57,  0, 39])), (tensor([22]), tensor([21]), tensor([ 1, 50,  4, 17,  9])), (tensor([22]), tensor([5]), tensor([ 1, 50,  4, 17,  9])), (tensor([22]), tensor([23]), tensor([ 1, 50,  4, 17,  9])), (tensor([22]), tensor([2]), tensor([ 1, 50,  4, 17,  9])), (tensor([23]), tensor([5]), tensor([12, 48, 42, 57,  5])), (tensor([23]), tensor([22]), tensor([12, 48, 42, 57,  5])), (tensor([23]), tensor([2]), tensor([12, 48, 42, 57,  5])), (tensor([23]), tensor([3]), tensor([12, 48, 42, 57,  5])), (tensor([2]), tensor([22]), tensor([11, 57,  7, 35, 10])), (tensor([2]), tensor([23]), tensor([11, 57,  7, 35, 10])), (tensor([2]), tensor([3]), tensor([11, 57,  7, 35, 10])), (tensor([2]), tensor([0]), tensor([11, 57,  7, 35, 10])), (tensor([3]), tensor([23]), tensor([14, 53, 36,  5,  5])), (tensor([3]), tensor([2]), tensor([14, 53, 36,  5,  5])), (tensor([3]), tensor([0]), tensor([14, 53, 36,  5,  5])), (tensor([3]), tensor([24]), tensor([14, 53, 36,  5,  5])), (tensor([0]), tensor([2]), tensor([54, 53,  8, 55, 19])), (tensor([0]), tensor([3]), tensor([54, 53,  8, 55, 19])), (tensor([0]), tensor([24]), tensor([54, 53,  8, 55, 19])), (tensor([0]), tensor([7]), tensor([54, 53,  8, 55, 19])), (tensor([24]), tensor([3]), tensor([14, 45, 45, 22, 12])), (tensor([24]), tensor([0]), tensor([14, 45, 45, 22, 12])), (tensor([24]), tensor([7]), tensor([14, 45, 45, 22, 12])), (tensor([24]), tensor([25]), tensor([14, 45, 45, 22, 12])), (tensor([7]), tensor([0]), tensor([59, 37, 49, 13, 46])), (tensor([7]), tensor([24]), tensor([59, 37, 49, 13, 46])), (tensor([7]), tensor([25]), tensor([59, 37, 49, 13, 46])), (tensor([7]), tensor([26]), tensor([59, 37, 49, 13, 46])), (tensor([25]), tensor([24]), tensor([11, 10, 42, 48,  0])), (tensor([25]), tensor([7]), tensor([11, 10, 42, 48,  0])), (tensor([25]), tensor([26]), tensor([11, 10, 42, 48,  0])), (tensor([25]), tensor([27]), tensor([11, 10, 42, 48,  0])), (tensor([26]), tensor([7]), tensor([ 3, 24, 10, 17, 28])), (tensor([26]), tensor([25]), tensor([ 3, 24, 10, 17, 28])), (tensor([26]), tensor([27]), tensor([ 3, 24, 10, 17, 28])), (tensor([26]), tensor([28]), tensor([ 3, 24, 10, 17, 28])), (tensor([27]), tensor([25]), tensor([23, 11, 50, 37, 54])), (tensor([27]), tensor([26]), tensor([23, 11, 50, 37, 54])), (tensor([27]), tensor([28]), tensor([23, 11, 50, 37, 54])), (tensor([27]), tensor([29]), tensor([23, 11, 50, 37, 54])), (tensor([28]), tensor([26]), tensor([ 4, 26,  1,  4,  8])), (tensor([28]), tensor([27]), tensor([ 4, 26,  1,  4,  8])), (tensor([28]), tensor([29]), tensor([ 4, 26,  1,  4,  8])), (tensor([28]), tensor([11]), tensor([ 4, 26,  1,  4,  8])), (tensor([29]), tensor([27]), tensor([17, 12, 48,  3,  4])), (tensor([29]), tensor([28]), tensor([17, 12, 48,  3,  4])), (tensor([29]), tensor([11]), tensor([17, 12, 48,  3,  4])), (tensor([29]), tensor([30]), tensor([17, 12, 48,  3,  4])), (tensor([11]), tensor([28]), tensor([25,  7, 32, 55, 26])), (tensor([11]), tensor([29]), tensor([25,  7, 32, 55, 26])), (tensor([11]), tensor([30]), tensor([25,  7, 32, 55, 26])), (tensor([11]), tensor([6]), tensor([25,  7, 32, 55, 26])), (tensor([30]), tensor([29]), tensor([24, 47, 19, 24, 29])), (tensor([30]), tensor([11]), tensor([24, 47, 19, 24, 29])), (tensor([30]), tensor([6]), tensor([24, 47, 19, 24, 29])), (tensor([30]), tensor([31]), tensor([24, 47, 19, 24, 29])), (tensor([6]), tensor([11]), tensor([15, 25,  2, 37,  4])), (tensor([6]), tensor([30]), tensor([15, 25,  2, 37,  4])), (tensor([6]), tensor([31]), tensor([15, 25,  2, 37,  4])), (tensor([6]), tensor([11]), tensor([15, 25,  2, 37,  4])), (tensor([31]), tensor([30]), tensor([ 4, 43, 59, 10, 59])), (tensor([31]), tensor([6]), tensor([ 4, 43, 59, 10, 59])), (tensor([31]), tensor([11]), tensor([ 4, 43, 59, 10, 59])), (tensor([31]), tensor([12]), tensor([ 4, 43, 59, 10, 59])), (tensor([11]), tensor([6]), tensor([30,  1, 10, 34, 47])), (tensor([11]), tensor([31]), tensor([30,  1, 10, 34, 47])), (tensor([11]), tensor([12]), tensor([30,  1, 10, 34, 47])), (tensor([11]), tensor([32]), tensor([30,  1, 10, 34, 47])), (tensor([12]), tensor([31]), tensor([24, 13,  0,  1, 12])), (tensor([12]), tensor([11]), tensor([24, 13,  0,  1, 12])), (tensor([12]), tensor([32]), tensor([24, 13,  0,  1, 12])), (tensor([12]), tensor([1]), tensor([24, 13,  0,  1, 12])), (tensor([32]), tensor([11]), tensor([57, 51,  6, 53, 25])), (tensor([32]), tensor([12]), tensor([57, 51,  6, 53, 25])), (tensor([32]), tensor([1]), tensor([57, 51,  6, 53, 25])), (tensor([32]), tensor([33]), tensor([57, 51,  6, 53, 25])), (tensor([1]), tensor([12]), tensor([53,  8, 48, 11,  3])), (tensor([1]), tensor([32]), tensor([53,  8, 48, 11,  3])), (tensor([1]), tensor([33]), tensor([53,  8, 48, 11,  3])), (tensor([1]), tensor([34]), tensor([53,  8, 48, 11,  3])), (tensor([33]), tensor([32]), tensor([ 6, 10,  1, 28, 36])), (tensor([33]), tensor([1]), tensor([ 6, 10,  1, 28, 36])), (tensor([33]), tensor([34]), tensor([ 6, 10,  1, 28, 36])), (tensor([33]), tensor([13]), tensor([ 6, 10,  1, 28, 36])), (tensor([34]), tensor([1]), tensor([28,  1, 42, 20, 37])), (tensor([34]), tensor([33]), tensor([28,  1, 42, 20, 37])), (tensor([34]), tensor([13]), tensor([28,  1, 42, 20, 37])), (tensor([34]), tensor([35]), tensor([28,  1, 42, 20, 37])), (tensor([13]), tensor([33]), tensor([ 5, 56, 17, 57,  3])), (tensor([13]), tensor([34]), tensor([ 5, 56, 17, 57,  3])), (tensor([13]), tensor([35]), tensor([ 5, 56, 17, 57,  3])), (tensor([13]), tensor([36]), tensor([ 5, 56, 17, 57,  3])), (tensor([35]), tensor([34]), tensor([14,  8, 10, 11, 37])), (tensor([35]), tensor([13]), tensor([14,  8, 10, 11, 37])), (tensor([35]), tensor([36]), tensor([14,  8, 10, 11, 37])), (tensor([35]), tensor([37]), tensor([14,  8, 10, 11, 37])), (tensor([36]), tensor([13]), tensor([14, 54, 10, 52, 47])), (tensor([36]), tensor([35]), tensor([14, 54, 10, 52, 47])), (tensor([36]), tensor([37]), tensor([14, 54, 10, 52, 47])), (tensor([36]), tensor([38]), tensor([14, 54, 10, 52, 47])), (tensor([37]), tensor([35]), tensor([55,  5, 52, 10, 24])), (tensor([37]), tensor([36]), tensor([55,  5, 52, 10, 24])), (tensor([37]), tensor([38]), tensor([55,  5, 52, 10, 24])), (tensor([37]), tensor([39]), tensor([55,  5, 52, 10, 24])), (tensor([38]), tensor([36]), tensor([25, 33, 26, 17, 36])), (tensor([38]), tensor([37]), tensor([25, 33, 26, 17, 36])), (tensor([38]), tensor([39]), tensor([25, 33, 26, 17, 36])), (tensor([38]), tensor([1]), tensor([25, 33, 26, 17, 36])), (tensor([39]), tensor([37]), tensor([58,  5, 12,  4, 55])), (tensor([39]), tensor([38]), tensor([58,  5, 12,  4, 55])), (tensor([39]), tensor([1]), tensor([58,  5, 12,  4, 55])), (tensor([39]), tensor([40]), tensor([58,  5, 12,  4, 55])), (tensor([1]), tensor([38]), tensor([54,  2, 15, 46, 11])), (tensor([1]), tensor([39]), tensor([54,  2, 15, 46, 11])), (tensor([1]), tensor([40]), tensor([54,  2, 15, 46, 11])), (tensor([1]), tensor([41]), tensor([54,  2, 15, 46, 11])), (tensor([40]), tensor([39]), tensor([47, 54, 10, 21,  9])), (tensor([40]), tensor([1]), tensor([47, 54, 10, 21,  9])), (tensor([40]), tensor([41]), tensor([47, 54, 10, 21,  9])), (tensor([40]), tensor([2]), tensor([47, 54, 10, 21,  9])), (tensor([41]), tensor([1]), tensor([24, 25, 34, 36,  9])), (tensor([41]), tensor([40]), tensor([24, 25, 34, 36,  9])), (tensor([41]), tensor([2]), tensor([24, 25, 34, 36,  9])), (tensor([41]), tensor([3]), tensor([24, 25, 34, 36,  9])), (tensor([2]), tensor([40]), tensor([40, 32, 47, 15, 19])), (tensor([2]), tensor([41]), tensor([40, 32, 47, 15, 19])), (tensor([2]), tensor([3]), tensor([40, 32, 47, 15, 19])), (tensor([2]), tensor([0]), tensor([40, 32, 47, 15, 19])), (tensor([3]), tensor([41]), tensor([26,  1, 25, 25,  3])), (tensor([3]), tensor([2]), tensor([26,  1, 25, 25,  3])), (tensor([3]), tensor([0]), tensor([26,  1, 25, 25,  3])), (tensor([3]), tensor([42]), tensor([26,  1, 25, 25,  3])), (tensor([0]), tensor([2]), tensor([ 1, 33, 20,  8, 34])), (tensor([0]), tensor([3]), tensor([ 1, 33, 20,  8, 34])), (tensor([0]), tensor([42]), tensor([ 1, 33, 20,  8, 34])), (tensor([0]), tensor([43]), tensor([ 1, 33, 20,  8, 34])), (tensor([42]), tensor([3]), tensor([19, 29,  7, 17, 15])), (tensor([42]), tensor([0]), tensor([19, 29,  7, 17, 15])), (tensor([42]), tensor([43]), tensor([19, 29,  7, 17, 15])), (tensor([42]), tensor([12]), tensor([19, 29,  7, 17, 15])), (tensor([43]), tensor([0]), tensor([ 0, 16, 26, 20, 36])), (tensor([43]), tensor([42]), tensor([ 0, 16, 26, 20, 36])), (tensor([43]), tensor([12]), tensor([ 0, 16, 26, 20, 36])), (tensor([43]), tensor([7]), tensor([ 0, 16, 26, 20, 36])), (tensor([12]), tensor([42]), tensor([44, 12,  4,  0, 55])), (tensor([12]), tensor([43]), tensor([44, 12,  4,  0, 55])), (tensor([12]), tensor([7]), tensor([44, 12,  4,  0, 55])), (tensor([12]), tensor([44]), tensor([44, 12,  4,  0, 55])), (tensor([7]), tensor([43]), tensor([41,  1, 11, 12, 43])), (tensor([7]), tensor([12]), tensor([41,  1, 11, 12, 43])), (tensor([7]), tensor([44]), tensor([41,  1, 11, 12, 43])), (tensor([7]), tensor([45]), tensor([41,  1, 11, 12, 43])), (tensor([44]), tensor([12]), tensor([14,  9, 11, 58, 17])), (tensor([44]), tensor([7]), tensor([14,  9, 11, 58, 17])), (tensor([44]), tensor([45]), tensor([14,  9, 11, 58, 17])), (tensor([44]), tensor([5]), tensor([14,  9, 11, 58, 17])), (tensor([45]), tensor([7]), tensor([13, 46, 20, 33, 11])), (tensor([45]), tensor([44]), tensor([13, 46, 20, 33, 11])), (tensor([45]), tensor([5]), tensor([13, 46, 20, 33, 11])), (tensor([45]), tensor([46]), tensor([13, 46, 20, 33, 11])), (tensor([5]), tensor([44]), tensor([26, 52,  0, 17, 31])), (tensor([5]), tensor([45]), tensor([26, 52,  0, 17, 31])), (tensor([5]), tensor([46]), tensor([26, 52,  0, 17, 31])), (tensor([5]), tensor([47]), tensor([26, 52,  0, 17, 31])), (tensor([46]), tensor([45]), tensor([ 2, 54, 44, 25, 30])), (tensor([46]), tensor([5]), tensor([ 2, 54, 44, 25, 30])), (tensor([46]), tensor([47]), tensor([ 2, 54, 44, 25, 30])), (tensor([46]), tensor([6]), tensor([ 2, 54, 44, 25, 30])), (tensor([47]), tensor([5]), tensor([40,  4, 18, 22, 13])), (tensor([47]), tensor([46]), tensor([40,  4, 18, 22, 13])), (tensor([47]), tensor([6]), tensor([40,  4, 18, 22, 13])), (tensor([47]), tensor([48]), tensor([40,  4, 18, 22, 13])), (tensor([6]), tensor([46]), tensor([52, 11, 40, 19, 23])), (tensor([6]), tensor([47]), tensor([52, 11, 40, 19, 23])), (tensor([6]), tensor([48]), tensor([52, 11, 40, 19, 23])), (tensor([6]), tensor([49]), tensor([52, 11, 40, 19, 23])), (tensor([48]), tensor([47]), tensor([16, 47, 37,  3, 36])), (tensor([48]), tensor([6]), tensor([16, 47, 37,  3, 36])), (tensor([48]), tensor([49]), tensor([16, 47, 37,  3, 36])), (tensor([48]), tensor([50]), tensor([16, 47, 37,  3, 36])), (tensor([49]), tensor([6]), tensor([38, 47,  1, 58, 29])), (tensor([49]), tensor([48]), tensor([38, 47,  1, 58, 29])), (tensor([49]), tensor([50]), tensor([38, 47,  1, 58, 29])), (tensor([49]), tensor([9]), tensor([38, 47,  1, 58, 29])), (tensor([50]), tensor([48]), tensor([30,  4, 33,  7, 49])), (tensor([50]), tensor([49]), tensor([30,  4, 33,  7, 49])), (tensor([50]), tensor([9]), tensor([30,  4, 33,  7, 49])), (tensor([50]), tensor([51]), tensor([30,  4, 33,  7, 49])), (tensor([9]), tensor([49]), tensor([31,  3, 53, 14, 34])), (tensor([9]), tensor([50]), tensor([31,  3, 53, 14, 34])), (tensor([9]), tensor([51]), tensor([31,  3, 53, 14, 34])), (tensor([9]), tensor([52]), tensor([31,  3, 53, 14, 34])), (tensor([51]), tensor([50]), tensor([35,  6, 43,  5, 56])), (tensor([51]), tensor([9]), tensor([35,  6, 43,  5, 56])), (tensor([51]), tensor([52]), tensor([35,  6, 43,  5, 56])), (tensor([51]), tensor([10]), tensor([35,  6, 43,  5, 56])), (tensor([52]), tensor([9]), tensor([44, 29,  3, 58, 35])), (tensor([52]), tensor([51]), tensor([44, 29,  3, 58, 35])), (tensor([52]), tensor([10]), tensor([44, 29,  3, 58, 35])), (tensor([52]), tensor([4]), tensor([44, 29,  3, 58, 35])), (tensor([10]), tensor([51]), tensor([10,  3,  1,  2,  6])), (tensor([10]), tensor([52]), tensor([10,  3,  1,  2,  6])), (tensor([10]), tensor([4]), tensor([10,  3,  1,  2,  6])), (tensor([10]), tensor([53]), tensor([10,  3,  1,  2,  6])), (tensor([4]), tensor([52]), tensor([27,  3, 32, 26,  4])), (tensor([4]), tensor([10]), tensor([27,  3, 32, 26,  4])), (tensor([4]), tensor([53]), tensor([27,  3, 32, 26,  4])), (tensor([4]), tensor([13]), tensor([27,  3, 32, 26,  4])), (tensor([53]), tensor([10]), tensor([ 8, 59, 28,  4,  6])), (tensor([53]), tensor([4]), tensor([ 8, 59, 28,  4,  6])), (tensor([53]), tensor([13]), tensor([ 8, 59, 28,  4,  6])), (tensor([53]), tensor([54]), tensor([ 8, 59, 28,  4,  6])), (tensor([13]), tensor([4]), tensor([ 6, 39, 30,  5,  1])), (tensor([13]), tensor([53]), tensor([ 6, 39, 30,  5,  1])), (tensor([13]), tensor([54]), tensor([ 6, 39, 30,  5,  1])), (tensor([13]), tensor([1]), tensor([ 6, 39, 30,  5,  1])), (tensor([54]), tensor([53]), tensor([45, 21,  9, 35,  2])), (tensor([54]), tensor([13]), tensor([45, 21,  9, 35,  2])), (tensor([54]), tensor([1]), tensor([45, 21,  9, 35,  2])), (tensor([54]), tensor([55]), tensor([45, 21,  9, 35,  2])), (tensor([1]), tensor([13]), tensor([23,  2, 20, 38, 13])), (tensor([1]), tensor([54]), tensor([23,  2, 20, 38, 13])), (tensor([1]), tensor([55]), tensor([23,  2, 20, 38, 13])), (tensor([1]), tensor([56]), tensor([23,  2, 20, 38, 13])), (tensor([55]), tensor([54]), tensor([44, 29, 36, 45, 12])), (tensor([55]), tensor([1]), tensor([44, 29, 36, 45, 12])), (tensor([55]), tensor([56]), tensor([44, 29, 36, 45, 12])), (tensor([55]), tensor([0]), tensor([44, 29, 36, 45, 12])), (tensor([56]), tensor([1]), tensor([34,  3, 41, 55, 32])), (tensor([56]), tensor([55]), tensor([34,  3, 41, 55, 32])), (tensor([56]), tensor([0]), tensor([34,  3, 41, 55, 32])), (tensor([56]), tensor([1]), tensor([34,  3, 41, 55, 32])), (tensor([0]), tensor([55]), tensor([ 6, 13, 14, 58, 25])), (tensor([0]), tensor([56]), tensor([ 6, 13, 14, 58, 25])), (tensor([0]), tensor([1]), tensor([ 6, 13, 14, 58, 25])), (tensor([0]), tensor([57]), tensor([ 6, 13, 14, 58, 25])), (tensor([1]), tensor([56]), tensor([47,  2, 34, 13,  1])), (tensor([1]), tensor([0]), tensor([47,  2, 34, 13,  1])), (tensor([1]), tensor([57]), tensor([47,  2, 34, 13,  1])), (tensor([1]), tensor([8]), tensor([47,  2, 34, 13,  1])), (tensor([57]), tensor([0]), tensor([19,  2,  2, 56,  7])), (tensor([57]), tensor([1]), tensor([19,  2,  2, 56,  7])), (tensor([57]), tensor([8]), tensor([19,  2,  2, 56,  7])), (tensor([57]), tensor([58]), tensor([19,  2,  2, 56,  7])), (tensor([8]), tensor([1]), tensor([54, 22,  4,  3, 24])), (tensor([8]), tensor([57]), tensor([54, 22,  4,  3, 24])), (tensor([8]), tensor([58]), tensor([54, 22,  4,  3, 24])), (tensor([58]), tensor([57]), tensor([47, 33, 38, 16, 35])), (tensor([58]), tensor([8]), tensor([47, 33, 38, 16, 35])), (tensor([59]), tensor([8]), tensor([44,  2,  3,  5, 10])), (tensor([59]), tensor([58]), tensor([44,  2,  3,  5, 10]))]\n"
          ]
        },
        {
          "output_type": "stream",
          "name": "stderr",
          "text": [
            "<ipython-input-117-202ed9600769>:50: UserWarning: To copy construct from a tensor, it is recommended to use sourceTensor.clone().detach() or sourceTensor.clone().detach().requires_grad_(True), rather than torch.tensor(sourceTensor).\n",
            "  negative_words = torch.tensor(negative_words)\n"
          ]
        }
      ]
    },
    {
      "cell_type": "code",
      "source": [
        "\n",
        "import torch\n",
        "import torch.nn as nn\n",
        "from torch import optim\n",
        "class Word2Vec(nn.Module):\n",
        "    def __init__(self, vocab_size, embedding_dim):\n",
        "        super(Word2Vec, self).__init__()\n",
        "        self.vocab_size = vocab_size\n",
        "        self.embedding_dim = embedding_dim\n",
        "        self.input_embeddings = nn.Embedding(vocab_size, embedding_dim)\n",
        "        self.output_embeddings = nn.Embedding(vocab_size, embedding_dim)\n",
        "\n",
        "        # Initialize embeddings\n",
        "        initrange = 0.5 / embedding_dim\n",
        "        self.input_embeddings.weight.data.uniform_(-initrange, initrange)\n",
        "        self.output_embeddings.weight.data.uniform_(-0, 0)\n",
        "\n",
        "    def forward(self, input_word, context_word, negative_words=None):\n",
        "      ##################################################################\n",
        "\n"
      ],
      "metadata": {
        "id": "Za9jz0k8RpX8"
      },
      "execution_count": null,
      "outputs": []
    },
    {
      "cell_type": "code",
      "source": [
        "import random\n",
        "# Initialize model, loss, optimizer\n",
        "# Initialize model, loss, optimizer\n",
        "model = Word2Vec(len(word2idx), 10)\n",
        "learning_rate = 0.001\n",
        "epochs = 50\n",
        "loss_function = nn.BCEWithLogitsLoss()\n",
        "optimizer = optim.Adam(model.parameters(), lr=learning_rate)\n",
        "\n",
        "num_epochs = 100\n",
        "\n",
        "for epoch in range(num_epochs):\n",
        "    total_loss = 0\n",
        "    for i, (target, context, negative_words) in enumerate(pairs):\n",
        "\n",
        "        # Labels for positive/negative\n",
        "\n",
        "\n",
        "        # Zero gradients\n",
        "        optimizer.zero_grad()\n",
        "\n",
        "        # Forward pass\n",
        "\n",
        "\n",
        "        # Compute loss for positive/negative and do summation\n",
        "\n",
        "\n",
        "\n",
        "        # Backward pass and optimization\n",
        "        loss.backward()\n",
        "        optimizer.step()\n",
        "\n",
        "        total_loss += loss.item()\n",
        "\n",
        "    if (epoch + 1) % 10 == 0:\n",
        "        print(f\"Epoch {epoch+1}/{num_epochs}, Loss: {total_loss:.4f}\")\n"
      ],
      "metadata": {
        "id": "932g93L0SAvB"
      },
      "execution_count": null,
      "outputs": []
    },
    {
      "cell_type": "code",
      "source": [
        "from torch.nn.functional import cosine_similarity\n",
        "# Get the word embeddings\n",
        "word_embeddings = model.input_embeddings.weight.data\n",
        "\n",
        "# Example: Get embedding for a specific word\n",
        "word = 'machine'\n",
        "if word in word2idx:\n",
        "    word_idx = word2idx[word]\n",
        "    word_vector = word_embeddings[word_idx]\n",
        "    print(f\"Vector for '{word}':\\n{word_vector}\")\n",
        "else:\n",
        "    print(f\"Word '{word}' not in vocabulary.\")\n",
        "\n",
        "def find_similar(word, word_embeddings, word2idx, idx2word, top_k=5):\n",
        "    if word not in word2idx:\n",
        "        print(f\"Word '{word}' not in vocabulary.\")\n",
        "        return\n",
        "    word_idx = word2idx[word]\n",
        "    word_vec = word_embeddings[word_idx].unsqueeze(0)\n",
        "    similarities = cosine_similarity(word_vec, word_embeddings,dim=-1)\n",
        "    similar_indices = similarities.argsort(descending=True)[:top_k].data.tolist()\n",
        "    similar_words= []\n",
        "    for idx in similar_indices:\n",
        "      if idx2word[idx] != word:\n",
        "        similar_words.append(idx2word[idx])\n",
        "    print(f\"Top {top_k} words similar to '{word}': {similar_words}\")\n",
        "\n",
        "# Example\n",
        "find_similar('learning', word_embeddings, word2idx, idx2word, top_k=3)\n",
        "find_similar('machine', word_embeddings, word2idx, idx2word, top_k=3)\n"
      ],
      "metadata": {
        "colab": {
          "base_uri": "https://localhost:8080/"
        },
        "id": "H77dqeHuDXUP",
        "outputId": "12dab7b5-5b25-40e4-a4b2-a3b4e87dc535"
      },
      "execution_count": null,
      "outputs": [
        {
          "output_type": "stream",
          "name": "stdout",
          "text": [
            "Vector for 'machine':\n",
            "tensor([-1.5444, -2.1195,  1.5672,  0.0539, -0.3602,  1.4793,  1.1963,  1.4893,\n",
            "        -0.5970, -1.9585])\n",
            "Top 3 words similar to 'learning': ['used', 'filtering']\n",
            "Top 3 words similar to 'machine': ['are', 'intelligence.']\n"
          ]
        }
      ]
    }
  ]
}